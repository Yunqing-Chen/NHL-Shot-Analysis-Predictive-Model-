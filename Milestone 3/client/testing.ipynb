{
 "cells": [
  {
   "cell_type": "code",
   "execution_count": 1,
   "metadata": {},
   "outputs": [],
   "source": [
    "from serving_client import ServingClient"
   ]
  },
  {
   "cell_type": "code",
   "execution_count": 2,
   "metadata": {},
   "outputs": [],
   "source": [
    "serving_client = ServingClient(ip=\"127.0.0.1\", port=5000)\n",
    "\n",
    "input_features = {\n",
    "    \"distance_from_net\": [10, 15],\n",
    "    \"angle_from_net\": [30, 45]\n",
    "}"
   ]
  },
  {
   "cell_type": "code",
   "execution_count": 3,
   "metadata": {},
   "outputs": [
    {
     "name": "stdout",
     "output_type": "stream",
     "text": [
      "Error in predict: 400 Client Error: BAD REQUEST for url: http://127.0.0.1:5000/predict\n",
      "None\n"
     ]
    }
   ],
   "source": [
    "# Test /predict\n",
    "print(serving_client.predict(input_features))"
   ]
  },
  {
   "cell_type": "code",
   "execution_count": 4,
   "metadata": {
    "scrolled": true
   },
   "outputs": [
    {
     "name": "stdout",
     "output_type": "stream",
     "text": [
      "<pre>2024-12-17 20:43:03,187 [INFO] Flask app initialized.\n",
      "2024-12-17 20:43:03,187 - INFO - Flask app initialized.\n",
      "2024-12-17 20:43:03,187 [INFO] Default model Distance_Angle not found locally. Downloading from WandB.\n",
      "2024-12-17 20:43:03,187 - INFO - Default model Distance_Angle not found locally. Downloading from WandB.\n",
      "2024-12-17 20:43:03,187 [INFO] Downloading model Distance_Angle version v0 from WandB registry.\n",
      "2024-12-17 20:43:03,187 - INFO - Downloading model Distance_Angle version v0 from WandB registry.\n",
      "2024-12-17 20:43:03,726 [ERROR] Failed to download default model Distance_Angle: failed to upsert bucket: returned error 401 Unauthorized: {\"errors\":[{\"message\":\"user is not logged in\",\"path\":[\"upsertBucket\"],\"extensions\":{\"code\":\"PERMISSION_ERROR\"}}],\"data\":{\"upsertBucket\":null}}\n",
      "2024-12-17 20:43:03,726 - ERROR - Failed to download default model Distance_Angle: failed to upsert bucket: returned error 401 Unauthorized: {\"errors\":[{\"message\":\"user is not logged in\",\"path\":[\"upsertBucket\"],\"extensions\":{\"code\":\"PERMISSION_ERROR\"}}],\"data\":{\"upsertBucket\":null}}\n",
      "2024-12-17 22:22:24,196 [ERROR] No model loaded.\n",
      "2024-12-17 22:22:24,196 - ERROR - No model loaded.\n",
      "2024-12-17 22:24:08,706 [INFO] {'workspace': 'ms2-logistic-regression', 'model': 'Distance_Angle', 'version': 'v0'}\n",
      "2024-12-17 22:24:08,706 - INFO - {'workspace': 'ms2-logistic-regression', 'model': 'Distance_Angle', 'version': 'v0'}\n",
      "2024-12-17 22:24:08,706 [INFO] Downloading model Distance_Angle version v0 from WandB registry.\n",
      "2024-12-17 22:24:08,706 - INFO - Downloading model Distance_Angle version v0 from WandB registry.\n",
      "2024-12-17 22:24:08,878 [ERROR] Failed to download or load model: failed to upsert bucket: returned error 401 Unauthorized: {\"errors\":[{\"message\":\"user is not logged in\",\"path\":[\"upsertBucket\"],\"extensions\":{\"code\":\"PERMISSION_ERROR\"}}],\"data\":{\"upsertBucket\":null}}\n",
      "2024-12-17 22:24:08,878 - ERROR - Failed to download or load model: failed to upsert bucket: returned error 401 Unauthorized: {\"errors\":[{\"message\":\"user is not logged in\",\"path\":[\"upsertBucket\"],\"extensions\":{\"code\":\"PERMISSION_ERROR\"}}],\"data\":{\"upsertBucket\":null}}\n",
      "2024-12-17 22:42:06,226 [ERROR] No model loaded.\n",
      "2024-12-17 22:42:06,226 - ERROR - No model loaded.\n",
      "2024-12-17 22:44:09,486 [INFO] {'workspace': 'ms2-logistic-regression', 'model': 'Distance_Only', 'version': 'v0'}\n",
      "2024-12-17 22:44:09,486 - INFO - {'workspace': 'ms2-logistic-regression', 'model': 'Distance_Only', 'version': 'v0'}\n",
      "2024-12-17 22:44:09,486 [INFO] Downloading model Distance_Only version v0 from WandB registry.\n",
      "2024-12-17 22:44:09,486 - INFO - Downloading model Distance_Only version v0 from WandB registry.\n",
      "2024-12-17 22:44:09,656 [ERROR] Failed to download or load model: failed to upsert bucket: returned error 401 Unauthorized: {\"errors\":[{\"message\":\"user is not logged in\",\"path\":[\"upsertBucket\"],\"extensions\":{\"code\":\"PERMISSION_ERROR\"}}],\"data\":{\"upsertBucket\":null}}\n",
      "2024-12-17 22:44:09,656 - ERROR - Failed to download or load model: failed to upsert bucket: returned error 401 Unauthorized: {\"errors\":[{\"message\":\"user is not logged in\",\"path\":[\"upsertBucket\"],\"extensions\":{\"code\":\"PERMISSION_ERROR\"}}],\"data\":{\"upsertBucket\":null}}\n",
      "2024-12-17 22:44:16,794 [INFO] {'workspace': 'ms2-logistic-regression', 'model': 'Distance_Angle', 'version': 'v0'}\n",
      "2024-12-17 22:44:16,794 - INFO - {'workspace': 'ms2-logistic-regression', 'model': 'Distance_Angle', 'version': 'v0'}\n",
      "2024-12-17 22:44:16,794 [INFO] Downloading model Distance_Angle version v0 from WandB registry.\n",
      "2024-12-17 22:44:16,794 - INFO - Downloading model Distance_Angle version v0 from WandB registry.\n",
      "2024-12-17 22:44:16,962 [ERROR] Failed to download or load model: failed to upsert bucket: returned error 401 Unauthorized: {\"errors\":[{\"message\":\"user is not logged in\",\"path\":[\"upsertBucket\"],\"extensions\":{\"code\":\"PERMISSION_ERROR\"}}],\"data\":{\"upsertBucket\":null}}\n",
      "2024-12-17 22:44:16,962 - ERROR - Failed to download or load model: failed to upsert bucket: returned error 401 Unauthorized: {\"errors\":[{\"message\":\"user is not logged in\",\"path\":[\"upsertBucket\"],\"extensions\":{\"code\":\"PERMISSION_ERROR\"}}],\"data\":{\"upsertBucket\":null}}\n",
      "2024-12-17 22:44:19,792 [ERROR] No model loaded.\n",
      "2024-12-17 22:44:19,792 - ERROR - No model loaded.\n",
      "2024-12-17 22:47:45,435 [ERROR] No model loaded.\n",
      "2024-12-17 22:47:45,435 - ERROR - No model loaded.\n",
      "</pre>\n"
     ]
    }
   ],
   "source": [
    "# Test /logs\n",
    "print(serving_client.logs())"
   ]
  },
  {
   "cell_type": "code",
   "execution_count": 5,
   "metadata": {},
   "outputs": [
    {
     "name": "stdout",
     "output_type": "stream",
     "text": [
      "Error in download_registry_model: 500 Server Error: INTERNAL SERVER ERROR for url: http://127.0.0.1:5000/download_registry_model\n",
      "{'error': '500 Server Error: INTERNAL SERVER ERROR for url: http://127.0.0.1:5000/download_registry_model'}\n"
     ]
    }
   ],
   "source": [
    "# Test /download_registry_model\n",
    "print(serving_client.download_registry_model(\n",
    "    workspace=\"ms2-logistic-regression\",\n",
    "    model=\"Distance_Only\",\n",
    "    version=\"v0\"\n",
    "))"
   ]
  },
  {
   "cell_type": "code",
   "execution_count": 6,
   "metadata": {},
   "outputs": [],
   "source": [
    "import requests\n",
    "import json\n",
    "import pandas as pd\n",
    "\n",
    "BASE_URL = \"http://127.0.0.1:5000\"\n",
    "\n",
    "# Test Data\n",
    "test_game_id = \"2021020001\"  # Replace with a valid game ID\n",
    "test_model_payload = {\n",
    "    \"workspace\": \"ms2-logistic-regression\",\n",
    "    \"model\": \"Distance_Angle\",\n",
    "    \"version\": \"v0\",\n",
    "}\n",
    "test_predict_payload = [\n",
    "    {\"distance_from_net\": 30, \"angle_from_net\": 15},\n",
    "    {\"distance_from_net\": 40, \"angle_from_net\": 25},\n",
    "]\n",
    "\n",
    "def test_process_game():\n",
    "    print(\"\\nTesting /process_game endpoint...\")\n",
    "    payload = {\"game_id\": test_game_id}\n",
    "    response = requests.post(f\"{BASE_URL}/process_game\", json=payload)\n",
    "    if response.status_code == 200:\n",
    "        print(\"Game processed successfully!\")\n",
    "        print(response)\n",
    "        if not isinstance(response.json(), dict):\n",
    "            print(\"Game was processed successfully!\")\n",
    "            processed_events = pd.DataFrame(response.json())\n",
    "            print(processed_events.head())  # Print the first few processed events\n",
    "        else:\n",
    "            print(\"No new events to process.\")\n",
    "    else:\n",
    "        print(f\"Failed to process game: {response.status_code} - {response.text}\")\n",
    "\n",
    "def test_download_registry_model():\n",
    "    print(\"\\nTesting /download_registry_model endpoint...\")\n",
    "    response = requests.post(f\"{BASE_URL}/download_registry_model\", json=test_model_payload)\n",
    "    if response.status_code == 200:\n",
    "        print(\"Model downloaded and loaded successfully!\")\n",
    "        print(response.json())\n",
    "    else:\n",
    "        print(f\"Failed to download model: {response.status_code} - {response.text}\")\n",
    "\n",
    "def test_logs():\n",
    "    print(\"\\nTesting /logs endpoint...\")\n",
    "    response = requests.get(f\"{BASE_URL}/logs\")\n",
    "    if response.status_code == 200:\n",
    "        print(\"Logs fetched successfully!\")\n",
    "        print(response.text)  # Print the first 500 characters of logs\n",
    "    else:\n",
    "        print(f\"Failed to fetch logs: {response.status_code} - {response.text}\")"
   ]
  },
  {
   "cell_type": "code",
   "execution_count": 7,
   "metadata": {},
   "outputs": [
    {
     "name": "stdout",
     "output_type": "stream",
     "text": [
      "\n",
      "Testing /download_registry_model endpoint...\n",
      "Failed to download model: 500 - <html>\n",
      "  <head>\n",
      "    <title>Internal Server Error</title>\n",
      "  </head>\n",
      "  <body>\n",
      "    <h1><p>Internal Server Error</p></h1>\n",
      "    \n",
      "  </body>\n",
      "</html>\n",
      "\n"
     ]
    }
   ],
   "source": [
    "test_download_registry_model()"
   ]
  },
  {
   "cell_type": "code",
   "execution_count": 8,
   "metadata": {},
   "outputs": [
    {
     "name": "stdout",
     "output_type": "stream",
     "text": [
      "\n",
      "Testing /process_game endpoint...\n",
      "Failed to process game: 400 - {\"error\":\"No model loaded.\"}\n",
      "\n"
     ]
    }
   ],
   "source": [
    "test_process_game()"
   ]
  },
  {
   "cell_type": "code",
   "execution_count": 9,
   "metadata": {},
   "outputs": [
    {
     "name": "stdout",
     "output_type": "stream",
     "text": [
      "\n",
      "Testing /logs endpoint...\n",
      "Logs fetched successfully!\n",
      "<pre>2024-12-17 20:43:03,187 [INFO] Flask app initialized.\n",
      "2024-12-17 20:43:03,187 - INFO - Flask app initialized.\n",
      "2024-12-17 20:43:03,187 [INFO] Default model Distance_Angle not found locally. Downloading from WandB.\n",
      "2024-12-17 20:43:03,187 - INFO - Default model Distance_Angle not found locally. Downloading from WandB.\n",
      "2024-12-17 20:43:03,187 [INFO] Downloading model Distance_Angle version v0 from WandB registry.\n",
      "2024-12-17 20:43:03,187 - INFO - Downloading model Distance_Angle version v0 from WandB registry.\n",
      "2024-12-17 20:43:03,726 [ERROR] Failed to download default model Distance_Angle: failed to upsert bucket: returned error 401 Unauthorized: {\"errors\":[{\"message\":\"user is not logged in\",\"path\":[\"upsertBucket\"],\"extensions\":{\"code\":\"PERMISSION_ERROR\"}}],\"data\":{\"upsertBucket\":null}}\n",
      "2024-12-17 20:43:03,726 - ERROR - Failed to download default model Distance_Angle: failed to upsert bucket: returned error 401 Unauthorized: {\"errors\":[{\"message\":\"user is not logged in\",\"path\":[\"upsertBucket\"],\"extensions\":{\"code\":\"PERMISSION_ERROR\"}}],\"data\":{\"upsertBucket\":null}}\n",
      "2024-12-17 22:22:24,196 [ERROR] No model loaded.\n",
      "2024-12-17 22:22:24,196 - ERROR - No model loaded.\n",
      "2024-12-17 22:24:08,706 [INFO] {'workspace': 'ms2-logistic-regression', 'model': 'Distance_Angle', 'version': 'v0'}\n",
      "2024-12-17 22:24:08,706 - INFO - {'workspace': 'ms2-logistic-regression', 'model': 'Distance_Angle', 'version': 'v0'}\n",
      "2024-12-17 22:24:08,706 [INFO] Downloading model Distance_Angle version v0 from WandB registry.\n",
      "2024-12-17 22:24:08,706 - INFO - Downloading model Distance_Angle version v0 from WandB registry.\n",
      "2024-12-17 22:24:08,878 [ERROR] Failed to download or load model: failed to upsert bucket: returned error 401 Unauthorized: {\"errors\":[{\"message\":\"user is not logged in\",\"path\":[\"upsertBucket\"],\"extensions\":{\"code\":\"PERMISSION_ERROR\"}}],\"data\":{\"upsertBucket\":null}}\n",
      "2024-12-17 22:24:08,878 - ERROR - Failed to download or load model: failed to upsert bucket: returned error 401 Unauthorized: {\"errors\":[{\"message\":\"user is not logged in\",\"path\":[\"upsertBucket\"],\"extensions\":{\"code\":\"PERMISSION_ERROR\"}}],\"data\":{\"upsertBucket\":null}}\n",
      "2024-12-17 22:42:06,226 [ERROR] No model loaded.\n",
      "2024-12-17 22:42:06,226 - ERROR - No model loaded.\n",
      "2024-12-17 22:44:09,486 [INFO] {'workspace': 'ms2-logistic-regression', 'model': 'Distance_Only', 'version': 'v0'}\n",
      "2024-12-17 22:44:09,486 - INFO - {'workspace': 'ms2-logistic-regression', 'model': 'Distance_Only', 'version': 'v0'}\n",
      "2024-12-17 22:44:09,486 [INFO] Downloading model Distance_Only version v0 from WandB registry.\n",
      "2024-12-17 22:44:09,486 - INFO - Downloading model Distance_Only version v0 from WandB registry.\n",
      "2024-12-17 22:44:09,656 [ERROR] Failed to download or load model: failed to upsert bucket: returned error 401 Unauthorized: {\"errors\":[{\"message\":\"user is not logged in\",\"path\":[\"upsertBucket\"],\"extensions\":{\"code\":\"PERMISSION_ERROR\"}}],\"data\":{\"upsertBucket\":null}}\n",
      "2024-12-17 22:44:09,656 - ERROR - Failed to download or load model: failed to upsert bucket: returned error 401 Unauthorized: {\"errors\":[{\"message\":\"user is not logged in\",\"path\":[\"upsertBucket\"],\"extensions\":{\"code\":\"PERMISSION_ERROR\"}}],\"data\":{\"upsertBucket\":null}}\n",
      "2024-12-17 22:44:16,794 [INFO] {'workspace': 'ms2-logistic-regression', 'model': 'Distance_Angle', 'version': 'v0'}\n",
      "2024-12-17 22:44:16,794 - INFO - {'workspace': 'ms2-logistic-regression', 'model': 'Distance_Angle', 'version': 'v0'}\n",
      "2024-12-17 22:44:16,794 [INFO] Downloading model Distance_Angle version v0 from WandB registry.\n",
      "2024-12-17 22:44:16,794 - INFO - Downloading model Distance_Angle version v0 from WandB registry.\n",
      "2024-12-17 22:44:16,962 [ERROR] Failed to download or load model: failed to upsert bucket: returned error 401 Unauthorized: {\"errors\":[{\"message\":\"user is not logged in\",\"path\":[\"upsertBucket\"],\"extensions\":{\"code\":\"PERMISSION_ERROR\"}}],\"data\":{\"upsertBucket\":null}}\n",
      "2024-12-17 22:44:16,962 - ERROR - Failed to download or load model: failed to upsert bucket: returned error 401 Unauthorized: {\"errors\":[{\"message\":\"user is not logged in\",\"path\":[\"upsertBucket\"],\"extensions\":{\"code\":\"PERMISSION_ERROR\"}}],\"data\":{\"upsertBucket\":null}}\n",
      "2024-12-17 22:44:19,792 [ERROR] No model loaded.\n",
      "2024-12-17 22:44:19,792 - ERROR - No model loaded.\n",
      "2024-12-17 22:47:45,435 [ERROR] No model loaded.\n",
      "2024-12-17 22:47:45,435 - ERROR - No model loaded.\n",
      "2024-12-17 22:47:58,687 [INFO] {'workspace': 'ms2-logistic-regression', 'model': 'Distance_Only', 'version': 'v0'}\n",
      "2024-12-17 22:47:58,687 - INFO - {'workspace': 'ms2-logistic-regression', 'model': 'Distance_Only', 'version': 'v0'}\n",
      "2024-12-17 22:47:58,687 [INFO] Downloading model Distance_Only version v0 from WandB registry.\n",
      "2024-12-17 22:47:58,687 - INFO - Downloading model Distance_Only version v0 from WandB registry.\n",
      "2024-12-17 22:47:58,860 [ERROR] Failed to download or load model: failed to upsert bucket: returned error 401 Unauthorized: {\"errors\":[{\"message\":\"user is not logged in\",\"path\":[\"upsertBucket\"],\"extensions\":{\"code\":\"PERMISSION_ERROR\"}}],\"data\":{\"upsertBucket\":null}}\n",
      "2024-12-17 22:47:58,860 - ERROR - Failed to download or load model: failed to upsert bucket: returned error 401 Unauthorized: {\"errors\":[{\"message\":\"user is not logged in\",\"path\":[\"upsertBucket\"],\"extensions\":{\"code\":\"PERMISSION_ERROR\"}}],\"data\":{\"upsertBucket\":null}}\n",
      "2024-12-17 22:48:22,976 [INFO] {'workspace': 'ms2-logistic-regression', 'model': 'Distance_Angle', 'version': 'v0'}\n",
      "2024-12-17 22:48:22,976 - INFO - {'workspace': 'ms2-logistic-regression', 'model': 'Distance_Angle', 'version': 'v0'}\n",
      "2024-12-17 22:48:22,976 [INFO] Downloading model Distance_Angle version v0 from WandB registry.\n",
      "2024-12-17 22:48:22,976 - INFO - Downloading model Distance_Angle version v0 from WandB registry.\n",
      "2024-12-17 22:49:26,232 [INFO] Flask app initialized.\n",
      "2024-12-17 22:49:26,232 - INFO - Flask app initialized.\n",
      "2024-12-17 22:49:26,232 [INFO] Default model Distance_Angle not found locally. Downloading from WandB.\n",
      "2024-12-17 22:49:26,232 - INFO - Default model Distance_Angle not found locally. Downloading from WandB.\n",
      "2024-12-17 22:49:26,233 [INFO] Downloading model Distance_Angle version v0 from WandB registry.\n",
      "2024-12-17 22:49:26,233 - INFO - Downloading model Distance_Angle version v0 from WandB registry.\n",
      "2024-12-17 22:49:26,237 [ERROR] Failed to download default model Distance_Angle: 1 validation error for Settings\n",
      "disabled\n",
      "  Object has no attribute 'disabled' [type=no_such_attribute, input_value='true', input_type=str]\n",
      "    For further information visit https://errors.pydantic.dev/2.10/v/no_such_attribute\n",
      "2024-12-17 22:49:26,237 - ERROR - Failed to download default model Distance_Angle: 1 validation error for Settings\n",
      "disabled\n",
      "  Object has no attribute 'disabled' [type=no_such_attribute, input_value='true', input_type=str]\n",
      "    For further information visit https://errors.pydantic.dev/2.10/v/no_such_attribute\n",
      "2024-12-17 22:49:26,237 [ERROR] No model loaded.\n",
      "2024-12-17 22:49:26,237 - ERROR - No model loaded.\n",
      "</pre>\n"
     ]
    }
   ],
   "source": [
    "test_logs()"
   ]
  },
  {
   "cell_type": "code",
   "execution_count": null,
   "metadata": {},
   "outputs": [],
   "source": [
    "client = ServingClient(ip=\"127.0.0.1\", port=5000)\n",
    "\n",
    "# Test /process_game\n",
    "game_id = \"2020020001\"  # Replace with a valid game ID\n",
    "print(\"\\nTesting /process_game...\")\n",
    "\n",
    "processed_data = client.process_game(game_id)\n",
    "\n",
    "if processed_data is None:\n",
    "    print(\"No new events to process or the game is already fully processed.\")\n",
    "else:\n",
    "    print(\"Successfully processed events:\")\n",
    "    print(processed_data.head())  # Display the first few rows of the processed data"
   ]
  }
 ],
 "metadata": {
  "kernelspec": {
   "display_name": "Python 3 (ipykernel)",
   "language": "python",
   "name": "python3"
  },
  "language_info": {
   "codemirror_mode": {
    "name": "ipython",
    "version": 3
   },
   "file_extension": ".py",
   "mimetype": "text/x-python",
   "name": "python",
   "nbconvert_exporter": "python",
   "pygments_lexer": "ipython3",
   "version": "3.13.0"
  }
 },
 "nbformat": 4,
 "nbformat_minor": 4
}
