{
 "cells": [
  {
   "cell_type": "code",
   "execution_count": 1,
   "metadata": {},
   "outputs": [],
   "source": [
    "import wandb\n",
    "import pandas as pd\n",
    "import numpy as np\n",
    "import xgboost as xgb\n",
    "import pathlib\n",
    "import os\n",
    "from sklearn.model_selection import train_test_split\n",
    "from sklearn.metrics import accuracy_score, roc_curve, auc\n",
    "from sklearn.calibration import CalibrationDisplay\n",
    "import matplotlib.pyplot as plt"
   ]
  },
  {
   "cell_type": "code",
   "execution_count": 2,
   "metadata": {},
   "outputs": [
    {
     "name": "stderr",
     "output_type": "stream",
     "text": [
      "ERROR:root:No traceback has been produced, nothing to debug.\n"
     ]
    }
   ],
   "source": [
    "# Set paths\n",
    "try:\n",
    "    current_dirpath = pathlib.Path(__file__).parent.absolute().resolve()\n",
    "except NameError:\n",
    "    current_dirpath = pathlib.Path(os.path.curdir).absolute().resolve()\n",
    "\n",
    "if not current_dirpath.parts[-3:] == ('ift6758', 'advanced_models', 'xgboost'):\n",
    "    raise Exception(\n",
    "        'It appears that this file is executed from the wrong location\\n'\n",
    "        'Expected path: (root-->)ift6758/advanced_models/xgboost/\\n'\n",
    "        f'Current path: {current_dirpath}'\n",
    "    )\n",
    "root_dirpath = current_dirpath.parents[1]"
   ]
  },
  {
   "cell_type": "code",
   "execution_count": 5,
   "metadata": {},
   "outputs": [],
   "source": [
    "# Load the dataset\n",
    "dataset_path = (root_dirpath / 'dataset' / 'complex_engineered' / 'augmented_data.csv')\n",
    "if not (dataset_path.is_file() and dataset_path.match('*.csv')):\n",
    "    raise Exception(\n",
    "        'It appears that the dataset either does not exist or is not a valid CSV\\n'\n",
    "        f'Path: {dataset_path}'\n",
    "    )\n",
    "df = pd.read_csv(dataset_path)"
   ]
  },
  {
   "cell_type": "code",
   "execution_count": 6,
   "metadata": {},
   "outputs": [],
   "source": [
    "df_2017021065 = df[df['game_id'] == 2017021065].reset_index().iloc[:,2:]"
   ]
  },
  {
   "cell_type": "code",
   "execution_count": null,
   "metadata": {},
   "outputs": [],
   "source": [
    "# Initialize WandB\n",
    "run = wandb.init(project=\"ms2_2017021065\")\n",
    "\n",
    "# Create WandB artifact\n",
    "artifact = wandb.Artifact(\"wpg_v_wsh_2017021065\", type=\"dataset\")\n",
    "\n",
    "# Add df to WandB table\n",
    "my_table = wandb.Table(dataframe=df_2017021065)\n",
    "\n",
    "# Add table to artifact\n",
    "artifact.add(my_table, 'wpg_v_wsh_2017021065')\n",
    "\n",
    "# Log artifact to WandB\n",
    "run.log_artifact(artifact)"
   ]
  },
  {
   "cell_type": "code",
   "execution_count": 22,
   "metadata": {},
   "outputs": [
    {
     "data": {
      "text/plain": [
       "RunStatus(sync_items_total=0, sync_items_pending=0, sync_time=None)"
      ]
     },
     "execution_count": 22,
     "metadata": {},
     "output_type": "execute_result"
    }
   ],
   "source": [
    "# Get status of run\n",
    "run.status()"
   ]
  },
  {
   "cell_type": "code",
   "execution_count": 23,
   "metadata": {},
   "outputs": [
    {
     "data": {
      "application/vnd.jupyter.widget-view+json": {
       "model_id": "",
       "version_major": 2,
       "version_minor": 0
      },
      "text/plain": [
       "VBox(children=(Label(value='0.026 MB of 0.026 MB uploaded\\r'), FloatProgress(value=1.0, max=1.0)))"
      ]
     },
     "metadata": {},
     "output_type": "display_data"
    },
    {
     "data": {
      "text/html": [
       " View run <strong style=\"color:#cdcd00\">devoted-music-1</strong> at: <a href='https://wandb.ai/IFT6758_2024-B01/ms2_2017021065/runs/uuxkt8zm' target=\"_blank\">https://wandb.ai/IFT6758_2024-B01/ms2_2017021065/runs/uuxkt8zm</a><br/> View project at: <a href='https://wandb.ai/IFT6758_2024-B01/ms2_2017021065' target=\"_blank\">https://wandb.ai/IFT6758_2024-B01/ms2_2017021065</a><br/>Synced 4 W&B file(s), 0 media file(s), 5 artifact file(s) and 0 other file(s)"
      ],
      "text/plain": [
       "<IPython.core.display.HTML object>"
      ]
     },
     "metadata": {},
     "output_type": "display_data"
    },
    {
     "data": {
      "text/html": [
       "Find logs at: <code>./wandb/run-20241121_002436-uuxkt8zm/logs</code>"
      ],
      "text/plain": [
       "<IPython.core.display.HTML object>"
      ]
     },
     "metadata": {},
     "output_type": "display_data"
    }
   ],
   "source": [
    "# End the run\n",
    "run.finish()"
   ]
  }
 ],
 "metadata": {
  "kernelspec": {
   "display_name": "Python 3 (ipykernel)",
   "language": "python",
   "name": "python3"
  },
  "language_info": {
   "codemirror_mode": {
    "name": "ipython",
    "version": 3
   },
   "file_extension": ".py",
   "mimetype": "text/x-python",
   "name": "python",
   "nbconvert_exporter": "python",
   "pygments_lexer": "ipython3",
   "version": "3.12.7"
  }
 },
 "nbformat": 4,
 "nbformat_minor": 4
}
