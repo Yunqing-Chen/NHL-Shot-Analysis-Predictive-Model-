{
 "cells": [
  {
   "cell_type": "markdown",
   "metadata": {},
   "source": [
    "### Simple Visualizations\n",
    "This notebook demonstrates how to use the functions in simple visualizations.py to generate plots for Questions 1, 2, and 3."
   ]
  },
  {
   "cell_type": "code",
   "execution_count": null,
   "metadata": {},
   "outputs": [],
   "source": [
    "import simple_visualization as sv\n",
    "import pandas as pd\n",
    "\n",
    "pd.set_option('display.max_rows', None)  # Show all rows\n",
    "pd.set_option('display.max_columns', None)  # Show all columns"
   ]
  },
  {
   "cell_type": "markdown",
   "metadata": {},
   "source": [
    "## Question 1"
   ]
  },
  {
   "cell_type": "code",
   "execution_count": null,
   "metadata": {},
   "outputs": [],
   "source": [
    "# Specify the data folder\n",
    "data_folder = '../dataset/processed/2022'\n",
    "\n",
    "# Gather all the data into a single DataFrame\n",
    "all_data = sv.get_all_data(data_folder)\n",
    "\n",
    "# Tally the number of shots and goals for each shot type\n",
    "shot_goal_tally = sv.tally_shots_and_goals(all_data)\n",
    "\n",
    "# Print the shot goal tally\n",
    "print(shot_goal_tally)\n",
    "\n",
    "# Plot the shot types vs goals\n",
    "sv.plot_shot_types_vs_goals(shot_goal_tally)"
   ]
  },
  {
   "cell_type": "markdown",
   "metadata": {},
   "source": [
    "## Question 2"
   ]
  },
  {
   "cell_type": "code",
   "execution_count": null,
   "metadata": {},
   "outputs": [],
   "source": [
    "# Specify the data folders\n",
    "data_folders = ['../dataset/processed/2018', '../dataset/processed/2019', '../dataset/processed/2020']\n",
    "\n",
    "for folder in data_folders:\n",
    "    # Process all the distances for the games\n",
    "    distance_data = sv.process_all_games(folder)\n",
    "\n",
    "    # Plot the shot outcomes by distance\n",
    "    sv.plot_shot_outcomes_by_distance(distance_data)"
   ]
  },
  {
   "cell_type": "markdown",
   "metadata": {},
   "source": [
    "## Question 3"
   ]
  },
  {
   "cell_type": "code",
   "execution_count": null,
   "metadata": {},
   "outputs": [],
   "source": [
    "# Process all the distances for all the games\n",
    "distance_data = sv.process_all_games(data_folder) # 2022\n",
    "\n",
    "# Take the distance data and segment it between shot types\n",
    "pivot_table = sv.prepare_goal_percentage_data(distance_data)\n",
    "\n",
    "# Plot the heatmap\n",
    "sv.plot_goal_percentage_heatmap(pivot_table)"
   ]
  }
 ],
 "metadata": {
  "kernelspec": {
   "display_name": "ift6758-conda-env",
   "language": "python",
   "name": "ift6758-conda-env"
  },
  "language_info": {
   "codemirror_mode": {
    "name": "ipython",
    "version": 3
   },
   "file_extension": ".py",
   "mimetype": "text/x-python",
   "name": "python",
   "nbconvert_exporter": "python",
   "pygments_lexer": "ipython3",
   "version": "3.12.5"
  }
 },
 "nbformat": 4,
 "nbformat_minor": 2
}
