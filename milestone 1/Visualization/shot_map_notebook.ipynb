{
 "cells": [
  {
   "cell_type": "markdown",
   "metadata": {},
   "source": [
    "### Shot Map"
   ]
  },
  {
   "cell_type": "code",
   "execution_count": null,
   "metadata": {},
   "outputs": [],
   "source": [
    "import shot_map as sm\n",
    "from PIL import Image"
   ]
  },
  {
   "cell_type": "code",
   "execution_count": null,
   "metadata": {},
   "outputs": [],
   "source": [
    "# Step 1: Load season data\n",
    "season_data = sm.load_season_data('../dataset/processed/2020')\n",
    "\n",
    "# Step 2: Segment the data by team, game, and period\n",
    "segmented_data = sm.segment_shot_data(season_data)\n",
    "\n",
    "# Step 3: Calculate the KDE differences for all teams\n",
    "kde_differences, x_grid, y_grid = sm.calculate_kde_differences_for_teams(segmented_data, grid_size=100, bw_adjust=0.3)\n",
    "\n",
    "# Step 4: Provide the path to the rink image \n",
    "rink = Image.open(\"rink.png\")\n",
    "\n",
    "# Step 4: Create the interactive plot\n",
    "sm.create_interactive_kde_plot(kde_differences, x_grid, y_grid, rink)"
   ]
  }
 ],
 "metadata": {
  "kernelspec": {
   "display_name": "ift6758-conda-env",
   "language": "python",
   "name": "ift6758-conda-env"
  }
 },
 "nbformat": 4,
 "nbformat_minor": 2
}
